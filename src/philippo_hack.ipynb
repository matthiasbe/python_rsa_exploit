{
 "cells": [
  {
   "cell_type": "code",
   "execution_count": 1,
   "metadata": {
    "collapsed": false
   },
   "outputs": [],
   "source": [
    "import hashlib\n",
    "import rsa\n",
    "import binascii\n",
    "import os\n",
    "from gmpy2 import mpz, iroot, powmod, mul, t_mod"
   ]
  },
  {
   "cell_type": "code",
   "execution_count": 2,
   "metadata": {
    "collapsed": true
   },
   "outputs": [],
   "source": [
    "def to_bytes(n):\n",
    "    \"\"\" Return a bytes representation of a int \"\"\"\n",
    "    return n.to_bytes((n.bit_length() // 8) + 1, byteorder='big')\n",
    "\n",
    "def from_bytes(b):\n",
    "    \"\"\" Makes a int from a bytestring \"\"\"\n",
    "    return int.from_bytes(b, byteorder='big')\n",
    "\n",
    "def get_bit(n, b):\n",
    "    \"\"\" Returns the b-th rightmost bit of n \"\"\"\n",
    "    return ((1 << b) & n) >> b\n",
    "\n",
    "def set_bit(n, b, x):\n",
    "    \"\"\" Returns n with the b-th rightmost bit set to x \"\"\"\n",
    "    if x == 0: return ~(1 << b) & n\n",
    "    if x == 1: return (1 << b) | n\n",
    "\n",
    "def cube_root(n):\n",
    "    return int(iroot(mpz(n), 3)[0])\n"
   ]
  },
  {
   "cell_type": "code",
   "execution_count": 94,
   "metadata": {
    "collapsed": false
   },
   "outputs": [],
   "source": [
    "# Message dont on veut contrefaire une signature\n",
    "# message = \"Ciao, ma888\".encode(\"ASCII\") # plante pour un hash pair (dernier bit = 0)\n",
    "message = \"Ciao, mamma!!\".encode(\"ASCII\")\n",
    "# On calcule son hash\n",
    "message_hash = hashlib.sha256(message).digest()"
   ]
  },
  {
   "cell_type": "code",
   "execution_count": 53,
   "metadata": {
    "collapsed": false
   },
   "outputs": [],
   "source": [
    "# La partie ASN.1\n",
    "ASN1_blob = rsa.pkcs1.HASH_ASN1['SHA-256']\n",
    "# Suffixe que doit avoir la signature une fois décodée\n",
    "suffix = b'\\x00' + ASN1_blob + message_hash"
   ]
  },
  {
   "cell_type": "code",
   "execution_count": 54,
   "metadata": {
    "collapsed": false
   },
   "outputs": [
    {
     "data": {
      "text/plain": [
       "b'003031300d06096086480165030402010500042065bf6ee2d1686411c0fc0e31bdfdca29ca8863a05c546ec736ece1ec8ebb8944'"
      ]
     },
     "execution_count": 54,
     "metadata": {},
     "output_type": "execute_result"
    }
   ],
   "source": [
    "# Aperçu du suffix a obtenir après application de la clé publique sur la signature\n",
    "binascii.hexlify(suffix)"
   ]
  },
  {
   "cell_type": "code",
   "execution_count": 55,
   "metadata": {
    "collapsed": false
   },
   "outputs": [
    {
     "data": {
      "text/plain": [
       "52"
      ]
     },
     "execution_count": 55,
     "metadata": {},
     "output_type": "execute_result"
    }
   ],
   "source": [
    "len(suffix)"
   ]
  },
  {
   "cell_type": "code",
   "execution_count": 56,
   "metadata": {
    "collapsed": false
   },
   "outputs": [
    {
     "data": {
      "text/plain": [
       "False"
      ]
     },
     "execution_count": 56,
     "metadata": {},
     "output_type": "execute_result"
    }
   ],
   "source": [
    "# On vérifie que le dernier bit du hash vaut 1\n",
    "suffix[-1]&0x01 == 1 # easy suffix computation works only with odd target"
   ]
  },
  {
   "cell_type": "code",
   "execution_count": 81,
   "metadata": {
    "collapsed": true
   },
   "outputs": [],
   "source": [
    "# suffixe de la signature avant déchiffrement avec la clé publique (avant mise au cube)\n",
    "sig_suffix = 1\n",
    "# On boucle sur chaque bit du suffixe a obtenir.\n",
    "# poids faible -> poids fort\n",
    "for b in range(len(suffix)*8):\n",
    "    # On fait en sort que le cube de sig_suffixe soit égal à suffix, au moins sur la taille du suffix à obtenir\n",
    "    if get_bit(sig_suffix ** 3, b) != get_bit(from_bytes(suffix), b):\n",
    "        sig_suffix = set_bit(sig_suffix, b, 1)"
   ]
  },
  {
   "cell_type": "code",
   "execution_count": 82,
   "metadata": {
    "collapsed": false
   },
   "outputs": [
    {
     "data": {
      "text/plain": [
       "False"
      ]
     },
     "execution_count": 82,
     "metadata": {},
     "output_type": "execute_result"
    }
   ],
   "source": [
    "# On vérifie que la fin du cube du suffixe à obtenir est égale au suffixe à obtenir\n",
    "to_bytes(sig_suffix ** 3).endswith(suffix) # BOOM"
   ]
  },
  {
   "cell_type": "code",
   "execution_count": 83,
   "metadata": {
    "collapsed": false
   },
   "outputs": [
    {
     "data": {
      "text/plain": [
       "1248"
      ]
     },
     "execution_count": 83,
     "metadata": {},
     "output_type": "execute_result"
    }
   ],
   "source": [
    "len(to_bytes(sig_suffix ** 3)) * 8"
   ]
  },
  {
   "cell_type": "code",
   "execution_count": 84,
   "metadata": {
    "collapsed": false
   },
   "outputs": [],
   "source": [
    "# On construit le prefix de la signature\n",
    "while True:\n",
    "    # Après application du cube, on aimerait obtenir ce prefixe\n",
    "    prefix = b'\\x00\\x01' + os.urandom(2048//8 - 2)\n",
    "    \n",
    "    # On prend la racine cubique du prefix visé (On fait l'hyp que (00 01 *)^3 ~ 00 01)\n",
    "    # A la fin, ajout de zéros de la taille du suffixe (pour faire l'addition)\n",
    "    sig_prefix = to_bytes(cube_root(from_bytes(prefix)))[:-len(suffix)] + b'\\x00' * len(suffix)\n",
    "    \n",
    "    # On crée la signature en additionnant suffixe et prefixe\n",
    "    sig = sig_prefix[:-len(suffix)] + to_bytes(sig_suffix)\n",
    "    \n",
    "    # Il ne faut pas de zéro qui soit dans le préfix de la signature déchiffrée\n",
    "    if b'\\x00' not in to_bytes(from_bytes(sig) ** 3)[:-len(suffix)]: break"
   ]
  },
  {
   "cell_type": "code",
   "execution_count": 85,
   "metadata": {
    "collapsed": false
   },
   "outputs": [
    {
     "data": {
      "text/plain": [
       "False"
      ]
     },
     "execution_count": 85,
     "metadata": {},
     "output_type": "execute_result"
    }
   ],
   "source": [
    "to_bytes(from_bytes(sig) ** 3).endswith(suffix)"
   ]
  },
  {
   "cell_type": "code",
   "execution_count": 86,
   "metadata": {
    "collapsed": false
   },
   "outputs": [
    {
     "data": {
      "text/plain": [
       "True"
      ]
     },
     "execution_count": 86,
     "metadata": {},
     "output_type": "execute_result"
    }
   ],
   "source": [
    "to_bytes(from_bytes(sig) ** 3).startswith(b'\\x01')"
   ]
  },
  {
   "cell_type": "code",
   "execution_count": 87,
   "metadata": {
    "collapsed": false
   },
   "outputs": [
    {
     "data": {
      "text/plain": [
       "True"
      ]
     },
     "execution_count": 87,
     "metadata": {},
     "output_type": "execute_result"
    }
   ],
   "source": [
    "len(to_bytes(from_bytes(sig) ** 3)) == 2048//8 - 1"
   ]
  },
  {
   "cell_type": "code",
   "execution_count": 88,
   "metadata": {
    "collapsed": false
   },
   "outputs": [
    {
     "data": {
      "text/plain": [
       "True"
      ]
     },
     "execution_count": 88,
     "metadata": {},
     "output_type": "execute_result"
    }
   ],
   "source": [
    "b'\\x00' not in to_bytes(from_bytes(sig) ** 3)[:-len(suffix)]"
   ]
  },
  {
   "cell_type": "code",
   "execution_count": 89,
   "metadata": {
    "collapsed": false
   },
   "outputs": [
    {
     "data": {
      "text/plain": [
       "b'2d73066b86ddb6386cc32dedf625c42dc6d0b2a8dcee11c284e913bfa9ac68cd7b3fbc4dec5965915bd8b16ed305d7a797e60d78327cd024833ba60fb0e005faed483c687de1506ecd683398d93aeadb323e7d3904'"
      ]
     },
     "execution_count": 89,
     "metadata": {},
     "output_type": "execute_result"
    }
   ],
   "source": [
    "# Contrefaçon de la signature\n",
    "binascii.hexlify(sig)"
   ]
  },
  {
   "cell_type": "code",
   "execution_count": 90,
   "metadata": {
    "collapsed": false
   },
   "outputs": [
    {
     "data": {
      "text/plain": [
       "b'016eb9f1bc3b317869eff323400689830c4d6b585007eb56082a15249bf893a06e5e308c7f2d276b79c7e386a386014a6c08605388484db766b749219d19c1ffb5a4e91666e48bb2e89a9f99199502b8f8dc95b03ae486d2cfe8f3cbd67d18e3ff18ba330662dbfdf2f0e5d1c5241b7b89f54e5673f4cd0714900b05dd846bca433c86276a11e2228c9745dd80de58f32695e03a8dcb82b6c69043a5ed477fd4295b3809f3431d7c2196b56b3fdbad5c7ee89b154e2ee0f1c36cff1b64ecef40462a8628c384986f0406f23f8c7cdc5463983b5ef96fb606d3a596e30d7c12196f4a61eace6ba120f9f4dcf5c1a2542bd80d6d3467f61e0c063adeb0c6b040'"
      ]
     },
     "execution_count": 90,
     "metadata": {},
     "output_type": "execute_result"
    }
   ],
   "source": [
    "# La signature déchiffrée\n",
    "binascii.hexlify(to_bytes(from_bytes(sig) ** 3))"
   ]
  },
  {
   "cell_type": "code",
   "execution_count": 91,
   "metadata": {
    "collapsed": false
   },
   "outputs": [],
   "source": [
    "key = rsa.newkeys(2048)[0]\n",
    "key.e = 3"
   ]
  },
  {
   "cell_type": "code",
   "execution_count": 92,
   "metadata": {
    "collapsed": false
   },
   "outputs": [
    {
     "ename": "VerificationError",
     "evalue": "Verification failed",
     "output_type": "error",
     "traceback": [
      "\u001b[1;31m---------------------------------------------------------------------------\u001b[0m",
      "\u001b[1;31mValueError\u001b[0m                                Traceback (most recent call last)",
      "\u001b[1;32m/home/matthias/anaconda3/lib/python3.5/site-packages/rsa/pkcs1.py\u001b[0m in \u001b[0;36mverify\u001b[1;34m(message, signature, pub_key)\u001b[0m\n\u001b[0;32m    311\u001b[0m     \u001b[1;32mtry\u001b[0m\u001b[1;33m:\u001b[0m\u001b[1;33m\u001b[0m\u001b[0m\n\u001b[1;32m--> 312\u001b[1;33m         \u001b[0msep_idx\u001b[0m \u001b[1;33m=\u001b[0m \u001b[0mclearsig\u001b[0m\u001b[1;33m.\u001b[0m\u001b[0mindex\u001b[0m\u001b[1;33m(\u001b[0m\u001b[0mb\u001b[0m\u001b[1;33m(\u001b[0m\u001b[1;34m'\\x00'\u001b[0m\u001b[1;33m)\u001b[0m\u001b[1;33m,\u001b[0m \u001b[1;36m2\u001b[0m\u001b[1;33m)\u001b[0m\u001b[1;33m\u001b[0m\u001b[0m\n\u001b[0m\u001b[0;32m    313\u001b[0m     \u001b[1;32mexcept\u001b[0m \u001b[0mValueError\u001b[0m\u001b[1;33m:\u001b[0m\u001b[1;33m\u001b[0m\u001b[0m\n",
      "\u001b[1;31mValueError\u001b[0m: substring not found",
      "\nDuring handling of the above exception, another exception occurred:\n",
      "\u001b[1;31mVerificationError\u001b[0m                         Traceback (most recent call last)",
      "\u001b[1;32m<ipython-input-92-f1ce9ff17af8>\u001b[0m in \u001b[0;36m<module>\u001b[1;34m()\u001b[0m\n\u001b[1;32m----> 1\u001b[1;33m \u001b[0mrsa\u001b[0m\u001b[1;33m.\u001b[0m\u001b[0mverify\u001b[0m\u001b[1;33m(\u001b[0m\u001b[0mmessage\u001b[0m\u001b[1;33m,\u001b[0m \u001b[0msig\u001b[0m\u001b[1;33m,\u001b[0m \u001b[0mkey\u001b[0m\u001b[1;33m)\u001b[0m\u001b[1;33m\u001b[0m\u001b[0m\n\u001b[0m",
      "\u001b[1;32m/home/matthias/anaconda3/lib/python3.5/site-packages/rsa/pkcs1.py\u001b[0m in \u001b[0;36mverify\u001b[1;34m(message, signature, pub_key)\u001b[0m\n\u001b[0;32m    312\u001b[0m         \u001b[0msep_idx\u001b[0m \u001b[1;33m=\u001b[0m \u001b[0mclearsig\u001b[0m\u001b[1;33m.\u001b[0m\u001b[0mindex\u001b[0m\u001b[1;33m(\u001b[0m\u001b[0mb\u001b[0m\u001b[1;33m(\u001b[0m\u001b[1;34m'\\x00'\u001b[0m\u001b[1;33m)\u001b[0m\u001b[1;33m,\u001b[0m \u001b[1;36m2\u001b[0m\u001b[1;33m)\u001b[0m\u001b[1;33m\u001b[0m\u001b[0m\n\u001b[0;32m    313\u001b[0m     \u001b[1;32mexcept\u001b[0m \u001b[0mValueError\u001b[0m\u001b[1;33m:\u001b[0m\u001b[1;33m\u001b[0m\u001b[0m\n\u001b[1;32m--> 314\u001b[1;33m         \u001b[1;32mraise\u001b[0m \u001b[0mVerificationError\u001b[0m\u001b[1;33m(\u001b[0m\u001b[1;34m'Verification failed'\u001b[0m\u001b[1;33m)\u001b[0m\u001b[1;33m\u001b[0m\u001b[0m\n\u001b[0m\u001b[0;32m    315\u001b[0m \u001b[1;33m\u001b[0m\u001b[0m\n\u001b[0;32m    316\u001b[0m     \u001b[1;31m# Get the hash and the hash method\u001b[0m\u001b[1;33m\u001b[0m\u001b[1;33m\u001b[0m\u001b[0m\n",
      "\u001b[1;31mVerificationError\u001b[0m: Verification failed"
     ]
    }
   ],
   "source": [
    "rsa.verify(message, sig, key)"
   ]
  },
  {
   "cell_type": "code",
   "execution_count": null,
   "metadata": {
    "collapsed": true
   },
   "outputs": [],
   "source": []
  },
  {
   "cell_type": "code",
   "execution_count": null,
   "metadata": {
    "collapsed": true
   },
   "outputs": [],
   "source": []
  }
 ],
 "metadata": {
  "kernelspec": {
   "display_name": "Python 3",
   "language": "python",
   "name": "python3"
  },
  "language_info": {
   "codemirror_mode": {
    "name": "ipython",
    "version": 3
   },
   "file_extension": ".py",
   "mimetype": "text/x-python",
   "name": "python",
   "nbconvert_exporter": "python",
   "pygments_lexer": "ipython3",
   "version": "3.5.1"
  }
 },
 "nbformat": 4,
 "nbformat_minor": 0
}
